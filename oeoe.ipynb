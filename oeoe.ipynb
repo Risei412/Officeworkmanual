{
 "cells": [
  {
   "cell_type": "markdown",
   "id": "26b0308e",
   "metadata": {},
   "source": [
    "# Jupyternote book の共有について"
   ]
  },
  {
   "cell_type": "code",
   "execution_count": 2,
   "id": "0eb11ca8",
   "metadata": {},
   "outputs": [
    {
     "data": {
      "text/plain": [
       "7.38905609893065"
      ]
     },
     "execution_count": 2,
     "metadata": {},
     "output_type": "execute_result"
    }
   ],
   "source": [
    "import math\n",
    "\n",
    "math.exp(2)"
   ]
  },
  {
   "cell_type": "markdown",
   "id": "cd173029",
   "metadata": {},
   "source": []
  }
 ],
 "metadata": {
  "kernelspec": {
   "display_name": "Python 3",
   "language": "python",
   "name": "python3"
  },
  "language_info": {
   "codemirror_mode": {
    "name": "ipython",
    "version": 3
   },
   "file_extension": ".py",
   "mimetype": "text/x-python",
   "name": "python",
   "nbconvert_exporter": "python",
   "pygments_lexer": "ipython3",
   "version": "3.10.4"
  }
 },
 "nbformat": 4,
 "nbformat_minor": 5
}
